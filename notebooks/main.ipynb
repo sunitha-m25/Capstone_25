{
 "cells": [
  {
   "cell_type": "code",
   "execution_count": null,
   "id": "aacfb8cd-ea27-46f8-9ec0-31d5a96682fb",
   "metadata": {},
   "outputs": [],
   "source": [
    "import pandas as pd\n",
    "import seaborn as sns\n",
    "import numpy as np\n",
    "import matplotlib.pyplot as plt\n",
    "from matplotlib import ticker\n",
    "import warnings\n",
    "warnings.filterwarnings('ignore')"
   ]
  },
  {
   "cell_type": "code",
   "execution_count": null,
   "id": "ca728663-9a18-46f0-b918-ff4e924f2ae1",
   "metadata": {},
   "outputs": [],
   "source": [
    "data_tn = pd.read_csv('../data/cleaned_Heart_Disease_and_Stroke_Mortality_Among_US_Adults_35.csv')"
   ]
  },
  {
   "cell_type": "code",
   "execution_count": null,
   "id": "2d3f7eb8-c5b1-4237-8866-1695038af073",
   "metadata": {},
   "outputs": [],
   "source": [
    "data_tn.head(3)"
   ]
  },
  {
   "cell_type": "code",
   "execution_count": null,
   "id": "b19c47af-b2ee-4fb9-88ef-fe1187f4df12",
   "metadata": {},
   "outputs": [],
   "source": [
    "data_tn.info()"
   ]
  },
  {
   "cell_type": "code",
   "execution_count": null,
   "id": "60fe1964-d9b6-40f9-9040-d1c2adb6a42b",
   "metadata": {},
   "outputs": [],
   "source": [
    "# Convert the 'Year' column to numeric, handling errors\n",
    "data_tn['Year'] = pd.to_numeric(data_tn['Year'], errors='coerce')\n",
    "data_tn['Year'] = data_tn['Year'].fillna(0)\n",
    "\n",
    "# Drop any rows where 'Year' could not be converted to a valid integer\n",
    "data_tn = data_tn.dropna(subset=['Year'])"
   ]
  },
  {
   "cell_type": "code",
   "execution_count": null,
   "id": "a25a936b-d961-4c2a-ad0f-36157cadc152",
   "metadata": {},
   "outputs": [],
   "source": [
    "data_tn['Year'].isna().sum()"
   ]
  },
  {
   "cell_type": "markdown",
   "id": "92dc61e2-28d1-40a4-95a1-ad036e806016",
   "metadata": {},
   "source": [
    "# Filtering the dataset to include only rows from the most recent years (2010-2019)"
   ]
  },
  {
   "cell_type": "code",
   "execution_count": null,
   "id": "1204524e-d1e4-4bd5-919a-faf40e4909d8",
   "metadata": {},
   "outputs": [],
   "source": [
    "data_tn_recent_years = data_tn[data_tn['Year'] >= 2010]"
   ]
  },
  {
   "cell_type": "code",
   "execution_count": null,
   "id": "c1ee3dd8-c879-4620-911d-26dc5834d75f",
   "metadata": {},
   "outputs": [],
   "source": [
    "data_tn_recent_years.head()"
   ]
  },
  {
   "cell_type": "code",
   "execution_count": null,
   "id": "4d22798b-3b0a-4f02-8541-30d36472d570",
   "metadata": {},
   "outputs": [],
   "source": [
    "print(f\"The filtered DataFrame (2010-2019) has {len(data_tn_recent_years)} rows.\")"
   ]
  },
  {
   "cell_type": "code",
   "execution_count": null,
   "id": "156f9a51-6e32-4ae5-ba41-ac88554cd9a5",
   "metadata": {},
   "outputs": [],
   "source": [
    "data_tn_recent_years.info()"
   ]
  },
  {
   "cell_type": "markdown",
   "id": "2d009120-0616-449c-9985-0b636e7d2d76",
   "metadata": {},
   "source": [
    "# Checking the unique values."
   ]
  },
  {
   "cell_type": "code",
   "execution_count": null,
   "id": "9986b730-6dc8-44a9-bee9-3e7a8f6ba042",
   "metadata": {},
   "outputs": [],
   "source": [
    "# Check all columns in the DataFrame for unique values\n",
    "for column in data_tn_recent_years.columns:\n",
    "    unique_values = data_tn_recent_years[column].unique()\n",
    "    if len(unique_values) == 1:\n",
    "        print(f\"The '{column}' column has the same value across all rows.\")\n",
    "        print(f\"The single value is: {unique_values[0]}\")"
   ]
  },
  {
   "cell_type": "markdown",
   "id": "17f5c270-848f-4a2f-9459-f1a5074618f6",
   "metadata": {},
   "source": [
    "# Checking for duplicates"
   ]
  },
  {
   "cell_type": "code",
   "execution_count": null,
   "id": "5488676d-5601-4554-ac53-b1e6a7fe6219",
   "metadata": {},
   "outputs": [],
   "source": [
    "# Check for duplicates\n",
    "duplicate_rows = data_tn_recent_years.duplicated().sum()\n",
    "print(f\"Number of duplicate rows: {duplicate_rows}\")"
   ]
  },
  {
   "cell_type": "code",
   "execution_count": null,
   "id": "d2066f16-a7a9-4d0f-afed-ae8841c8e119",
   "metadata": {},
   "outputs": [],
   "source": [
    "data_tn_recent_years"
   ]
  },
  {
   "cell_type": "markdown",
   "id": "09c8e42b-c11d-4c7e-9826-c300178b102e",
   "metadata": {},
   "source": [
    "# Saving the cleaned dataset of TN to a csv file"
   ]
  },
  {
   "cell_type": "code",
   "execution_count": null,
   "id": "8531df17-b21c-446f-8ced-2385ea6b5b43",
   "metadata": {},
   "outputs": [],
   "source": [
    "# Save the cleaned DataFrame to a new CSV file\n",
    "data_tn_recent_years.to_csv('../data/tn_cleaned_Heart_Disease_and_Stroke_Mortality_Among_US_Adults_35.csv', index=False)"
   ]
  },
  {
   "cell_type": "code",
   "execution_count": null,
   "id": "12e6208a-61f6-49c1-ac55-a185750cce52",
   "metadata": {},
   "outputs": [],
   "source": [
    "# import data\n",
    "path = '../data/tn_cleaned_Heart_Disease_and_Stroke_Mortality_Among_US_Adults_35.csv'\n",
    "heart = pd.read_csv(path)\n",
    "display(heart) "
   ]
  },
  {
   "cell_type": "markdown",
   "id": "7b233dde-6a01-47b8-b6da-54785ffe26a0",
   "metadata": {},
   "source": [
    "- Average Mortality Rate by Age Group"
   ]
  },
  {
   "cell_type": "code",
   "execution_count": null,
   "id": "64ec7071-5bff-4665-8f6e-0e2f9b0bd72c",
   "metadata": {},
   "outputs": [],
   "source": [
    "plt.figure(figsize=(10,6))\n",
    "heart.groupby('AgeGroup')['MortalityRate'].mean().sort_values(ascending=False).plot.bar(fontsize=12).set_title(\"Average Mortality Rate By Age Group (2010-2019)\")\n",
    "plt.ylabel('Number of Deaths per 100,000')\n",
    "plt.xticks(rotation=45, ha='right')\n",
    "plt.show()"
   ]
  },
  {
   "cell_type": "markdown",
   "id": "28716ebe-a8f5-403d-8ba3-949fc3302469",
   "metadata": {},
   "source": [
    "- Mortality Rate by Age Group and Sex"
   ]
  },
  {
   "cell_type": "code",
   "execution_count": null,
   "id": "e1d0f828-eb93-4997-aa05-7cca6fe1b0d2",
   "metadata": {},
   "outputs": [],
   "source": [
    "# Plot the data with the custom color palette\n",
    "plt.figure(figsize=(14, 7))\n",
    "sns.boxplot(data=heart, x='AgeGroup', y='MortalityRate', hue='Gender')\n",
    "plt.title('Mortality Rates by Age Group and Sex')\n",
    "plt.xlabel('Age Group')\n",
    "plt.ylabel('Number of Deaths per 100,000')\n",
    "plt.legend(title='Sex')\n",
    "plt.savefig('Mortality Rates by Age Group and Sex.jpg', format='jpg')\n",
    "plt.show()"
   ]
  },
  {
   "cell_type": "markdown",
   "id": "9c915695-995e-4e2f-8724-fd4080f3a587",
   "metadata": {},
   "source": [
    "Mortality Rate by Gender"
   ]
  },
  {
   "cell_type": "code",
   "execution_count": null,
   "id": "6e46641c-c869-4f66-95fd-9b24ed6950d9",
   "metadata": {},
   "outputs": [],
   "source": [
    "# Plot Average MortalityRate by Gender\n",
    "plt.figure(figsize=(14,7))\n",
    "heart.groupby('Gender')['MortalityRate'].mean().sort_values(ascending=False).plot.bar(fontsize=12).set_title(\"Mortality Rate By Gender (2010-2019)\")\n",
    "plt.ylabel('Number of Deaths per 100,000')\n",
    "plt.xticks(rotation=45, ha='right')\n",
    "plt.show()"
   ]
  },
  {
   "cell_type": "code",
   "execution_count": null,
   "id": "5bb44a89-9e8c-4532-a46d-a6a83d2fe309",
   "metadata": {},
   "outputs": [],
   "source": []
  },
  {
   "cell_type": "code",
   "execution_count": null,
   "id": "f4bd97f8-1fe3-4954-87be-f929dd62d8c9",
   "metadata": {},
   "outputs": [],
   "source": []
  },
  {
   "cell_type": "code",
   "execution_count": null,
   "id": "a939e29e-6b72-44d2-90b6-449bea80b690",
   "metadata": {},
   "outputs": [],
   "source": []
  },
  {
   "cell_type": "code",
   "execution_count": null,
   "id": "12b3e5b4-e718-468d-a0f5-baa6b72c5f4e",
   "metadata": {},
   "outputs": [],
   "source": []
  }
 ],
 "metadata": {
  "kernelspec": {
   "display_name": "Python 3 (ipykernel)",
   "language": "python",
   "name": "python3"
  },
  "language_info": {
   "codemirror_mode": {
    "name": "ipython",
    "version": 3
   },
   "file_extension": ".py",
   "mimetype": "text/x-python",
   "name": "python",
   "nbconvert_exporter": "python",
   "pygments_lexer": "ipython3",
   "version": "3.13.5"
  }
 },
 "nbformat": 4,
 "nbformat_minor": 5
}
