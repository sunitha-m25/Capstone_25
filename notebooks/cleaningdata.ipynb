{
 "cells": [
  {
   "cell_type": "code",
   "execution_count": null,
   "id": "b0f461c3-dc1f-49cc-b03f-589373b2eba9",
   "metadata": {},
   "outputs": [],
   "source": [
    "import pandas as pd\n",
    "import warnings\n",
    "warnings.filterwarnings('ignore')"
   ]
  },
  {
   "cell_type": "code",
   "execution_count": null,
   "id": "a6ffb331-9bcc-49d4-bb33-3fdfb1670b9e",
   "metadata": {},
   "outputs": [],
   "source": [
    "data = pd.read_csv('../data/Heart_Disease_and_Stroke_Mortality_Among_US_Adults_35.csv')"
   ]
  },
  {
   "cell_type": "code",
   "execution_count": null,
   "id": "6cc527ae-6dbe-4000-8bf0-cf0251578436",
   "metadata": {},
   "outputs": [],
   "source": [
    "# To see all the columns\n",
    "pd.set_option('display.max_columns', None)\n",
    "data.head(3)"
   ]
  },
  {
   "cell_type": "code",
   "execution_count": null,
   "id": "aff64f44-3a6f-4c23-b5c7-cf3d6322519e",
   "metadata": {},
   "outputs": [],
   "source": [
    "data.info()"
   ]
  },
  {
   "cell_type": "markdown",
   "id": "997270c2-67af-428f-8238-cdc727329509",
   "metadata": {},
   "source": [
    "## Dropping unwanted columns"
   ]
  },
  {
   "cell_type": "code",
   "execution_count": null,
   "id": "6ee2989b-2c23-40e7-a026-082f6426b3de",
   "metadata": {},
   "outputs": [],
   "source": [
    "data = data.drop(['Class', 'Data_Value_Type','Data_Value_Footnote_Symbol','Data_Value_Footnote','DataSource','StratificationCategory1','StratificationCategory2','StratificationCategory3','GeographicLevel','LocationID'], axis=1)"
   ]
  },
  {
   "cell_type": "code",
   "execution_count": null,
   "id": "3bbb0737-d694-4bfa-a480-d1699ac18a1c",
   "metadata": {},
   "outputs": [],
   "source": [
    "data.info()"
   ]
  },
  {
   "cell_type": "markdown",
   "id": "e80123f6-a5a2-4aef-807a-8c6abb5f2808",
   "metadata": {},
   "source": [
    "## Renaming Columns"
   ]
  },
  {
   "cell_type": "code",
   "execution_count": null,
   "id": "4b5d28a1-2d89-49ba-8f59-f23849d169e0",
   "metadata": {},
   "outputs": [],
   "source": [
    "data=data.rename(columns={'Stratification1': 'AgeGroup',\n",
    "                                'Stratification2': 'RaceEthnicity',\n",
    "                                'Stratification3': 'Gender',\n",
    "                                'Data_Value': 'MortalityRate',\n",
    "                                'Data_Value_Unit': 'Data_Value_Unit',\n",
    "                                'Confidence_limit_Low' : 'ConfLow',\n",
    "                                'Confidence_limit_High' : 'ConfHigh',\n",
    "                                'LocationDesc': 'County',\n",
    "                                'LocationAbbr': 'State',\n",
    "                                'Topic': 'CauseOfDeath'})\n",
    "data.columns"
   ]
  },
  {
   "cell_type": "markdown",
   "id": "cebd6cce-c5e6-4e39-a692-c306031cd574",
   "metadata": {},
   "source": [
    "## Checking Null values"
   ]
  },
  {
   "cell_type": "markdown",
   "id": "3f79cabd-8a07-419a-b441-97af68fa07b2",
   "metadata": {},
   "source": [
    "- Indentifying null values present in the dataset.\n",
    "- Checking out for null values in each of the columns."
   ]
  },
  {
   "cell_type": "code",
   "execution_count": null,
   "id": "fedc5d35-9a98-481b-90dc-11edea1093a6",
   "metadata": {},
   "outputs": [],
   "source": [
    "# Columns with known missing data that are critical for analysis\n",
    "critical_columns_with_missing_data = [\n",
    "    'MortalityRate',\n",
    "    'ConfLow',\n",
    "    'ConfHigh'\n",
    "]\n",
    "\n",
    "# Filter out rows with missing critical data\n",
    "data = data.dropna(subset=critical_columns_with_missing_data)\n",
    "\n",
    "# Display the filtered DataFrame to verify\n",
    "data.head(3)"
   ]
  },
  {
   "cell_type": "code",
   "execution_count": null,
   "id": "d74ff6d3-7eee-456b-aa47-8b3260a3f621",
   "metadata": {},
   "outputs": [],
   "source": [
    "data.isna().sum()"
   ]
  },
  {
   "cell_type": "code",
   "execution_count": null,
   "id": "0a1334be-61ba-4c4c-add8-58bb6a28517a",
   "metadata": {},
   "outputs": [],
   "source": [
    "data_tn = data.loc[data['State'] == 'TN']"
   ]
  },
  {
   "cell_type": "code",
   "execution_count": null,
   "id": "b91b4700-a8f4-4b92-af4e-f854842d9ed6",
   "metadata": {},
   "outputs": [],
   "source": [
    "data_tn.head(3)"
   ]
  },
  {
   "cell_type": "code",
   "execution_count": null,
   "id": "d46b6f6f-67cf-44fd-8a6a-7c3f50efa1cf",
   "metadata": {},
   "outputs": [],
   "source": [
    "# Save the cleaned DataFrame to a new CSV file\n",
    "data_tn.to_csv('../data/cleaned_Heart_Disease_and_Stroke_Mortality_Among_US_Adults_35.csv', index=False)"
   ]
  },
  {
   "cell_type": "code",
   "execution_count": null,
   "id": "100dbd0c-7441-4225-badc-fcf99649992b",
   "metadata": {},
   "outputs": [],
   "source": []
  }
 ],
 "metadata": {
  "kernelspec": {
   "display_name": "Python 3 (ipykernel)",
   "language": "python",
   "name": "python3"
  },
  "language_info": {
   "codemirror_mode": {
    "name": "ipython",
    "version": 3
   },
   "file_extension": ".py",
   "mimetype": "text/x-python",
   "name": "python",
   "nbconvert_exporter": "python",
   "pygments_lexer": "ipython3",
   "version": "3.13.5"
  }
 },
 "nbformat": 4,
 "nbformat_minor": 5
}
